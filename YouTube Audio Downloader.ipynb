{
 "cells": [
  {
   "cell_type": "code",
   "execution_count": 1,
   "metadata": {},
   "outputs": [],
   "source": [
    "from pathlib import Path\n",
    "from pytube import YouTube\n",
    "from pydub import AudioSegment"
   ]
  },
  {
   "cell_type": "code",
   "execution_count": 2,
   "metadata": {},
   "outputs": [],
   "source": [
    "# Replace with your YouTube video URL\n",
    "youtube_url = 'https://www.youtube.com/watch?v=_2KhUoLSnXA'\n",
    "\n",
    "# Download the YouTube video from the best audio stream\n",
    "yt = YouTube(youtube_url)\n",
    "audio_streams = yt.streams.filter(progressive=False, type='audio')\n",
    "stream = max(audio_streams, key=lambda stream: int(stream.abr[:-4])) # stream with the best average bit rate (abr)\n",
    "filepath = Path(stream.download(output_path='./data/youtube/'))\n",
    "\n",
    "# Convert the downloaded file to .wav\n",
    "audio = AudioSegment.from_file(filepath)\n",
    "audio_filepath = Path(filepath).with_suffix('.wav')\n",
    "audio.export(audio_filepath, format='wav')\n",
    "\n",
    "# Delete the original downloaded file\n",
    "filepath.unlink()"
   ]
  }
 ],
 "metadata": {
  "kernelspec": {
   "display_name": ".venv",
   "language": "python",
   "name": "python3"
  },
  "language_info": {
   "codemirror_mode": {
    "name": "ipython",
    "version": 3
   },
   "file_extension": ".py",
   "mimetype": "text/x-python",
   "name": "python",
   "nbconvert_exporter": "python",
   "pygments_lexer": "ipython3",
   "version": "3.10.12"
  }
 },
 "nbformat": 4,
 "nbformat_minor": 2
}
