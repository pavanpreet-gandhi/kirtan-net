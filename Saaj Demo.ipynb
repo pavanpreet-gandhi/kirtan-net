{
 "cells": [
  {
   "cell_type": "markdown",
   "metadata": {},
   "source": []
  },
  {
   "cell_type": "code",
   "execution_count": 1,
   "metadata": {},
   "outputs": [
    {
     "name": "stderr",
     "output_type": "stream",
     "text": [
      "WARNING:root:python-rtmidi was not found; streaming midi input / output will not be available.\n",
      "WARNING:root:pynput was not found; mouse and keyboard input will not be available.\n"
     ]
    }
   ],
   "source": [
    "import utils\n",
    "from music_elements.note import Note\n",
    "from music_elements.chord import Chord\n",
    "from music_elements.instrument import Instrument"
   ]
  },
  {
   "cell_type": "code",
   "execution_count": 2,
   "metadata": {},
   "outputs": [
    {
     "name": "stdout",
     "output_type": "stream",
     "text": [
      "dict_keys(['bilaval', 'asa', 'bhairo', 'suhi', 'gond'])\n"
     ]
    }
   ],
   "source": [
    "raags = utils.load_yaml('./configuration/raags.yaml')\n",
    "print(raags.keys())"
   ]
  },
  {
   "cell_type": "code",
   "execution_count": 3,
   "metadata": {},
   "outputs": [
    {
     "name": "stderr",
     "output_type": "stream",
     "text": [
      "fluidsynth: Using PulseAudio driver\n",
      "fluidsynth: warning: Failed to set thread to high priority\n",
      "ALSA lib seq_hw.c:466:(snd_seq_hw_open) open /dev/snd/seq failed: No such file or directory\n",
      "fluidsynth: error: Error opening ALSA sequencer\n"
     ]
    },
    {
     "name": "stdout",
     "output_type": "stream",
     "text": [
      "Using preset Accordion for accordian\n"
     ]
    }
   ],
   "source": [
    "waja = Instrument(tempo=240)\n",
    "\n",
    "raag = raags['bilaval']\n",
    "\n",
    "for notation in raag.aroh:\n",
    "    note = Note(notation)\n",
    "    waja.play_note(note)\n",
    "\n",
    "waja.play_note(None)\n",
    "\n",
    "for notation in raag.avroh:\n",
    "    note = Note(notation)\n",
    "    waja.play_note(note)\n",
    "\n",
    "del waja"
   ]
  },
  {
   "cell_type": "code",
   "execution_count": 4,
   "metadata": {},
   "outputs": [
    {
     "name": "stdout",
     "output_type": "stream",
     "text": [
      "Using preset Accordion for accordian\n"
     ]
    }
   ],
   "source": [
    "waja = Instrument(tempo=120)\n",
    "\n",
    "note = Note('s')\n",
    "\n",
    "chord_major = Chord(note, [0, 4, 7])\n",
    "\n",
    "waja.play_chord(chord_major, duration=2)\n",
    "waja.play_chord(chord_major.invert(1), duration=2)\n",
    "waja.play_chord(chord_major.invert(2), duration=2)\n",
    "\n",
    "del waja"
   ]
  }
 ],
 "metadata": {
  "kernelspec": {
   "display_name": "music-env",
   "language": "python",
   "name": "python3"
  },
  "language_info": {
   "codemirror_mode": {
    "name": "ipython",
    "version": 3
   },
   "file_extension": ".py",
   "mimetype": "text/x-python",
   "name": "python",
   "nbconvert_exporter": "python",
   "pygments_lexer": "ipython3",
   "version": "3.10.12"
  }
 },
 "nbformat": 4,
 "nbformat_minor": 2
}
