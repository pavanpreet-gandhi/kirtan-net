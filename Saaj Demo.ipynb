{
 "cells": [
  {
   "cell_type": "code",
   "execution_count": 1,
   "metadata": {},
   "outputs": [
    {
     "name": "stderr",
     "output_type": "stream",
     "text": [
      "WARNING:root:python-rtmidi was not found; streaming midi input / output will not be available.\n",
      "WARNING:root:pynput was not found; mouse and keyboard input will not be available.\n"
     ]
    }
   ],
   "source": [
    "import utils\n",
    "from saaj import Saaj"
   ]
  },
  {
   "cell_type": "code",
   "execution_count": 2,
   "metadata": {},
   "outputs": [
    {
     "name": "stdout",
     "output_type": "stream",
     "text": [
      "['bilaval', 'asa', 'bhairo', 'suhi']\n"
     ]
    }
   ],
   "source": [
    "sura = utils.load_sura()\n",
    "print(list(sura.raags.keys()))"
   ]
  },
  {
   "cell_type": "code",
   "execution_count": 3,
   "metadata": {},
   "outputs": [
    {
     "name": "stderr",
     "output_type": "stream",
     "text": [
      "fluidsynth: Using PulseAudio driver\n",
      "fluidsynth: warning: Failed to set thread to high priority\n",
      "ALSA lib seq_hw.c:466:(snd_seq_hw_open) open /dev/snd/seq failed: No such file or directory\n",
      "fluidsynth: error: Error opening ALSA sequencer\n"
     ]
    }
   ],
   "source": [
    "waja = Saaj(tempo=120, sa_note=61, instrument='Accordian')\n",
    "raag = sura.raags['suhi']\n",
    "waja.play_sura(raag.aroh + [''] + raag.avroh + [''])"
   ]
  }
 ],
 "metadata": {
  "kernelspec": {
   "display_name": "music-env",
   "language": "python",
   "name": "python3"
  },
  "language_info": {
   "codemirror_mode": {
    "name": "ipython",
    "version": 3
   },
   "file_extension": ".py",
   "mimetype": "text/x-python",
   "name": "python",
   "nbconvert_exporter": "python",
   "pygments_lexer": "ipython3",
   "version": "3.10.12"
  }
 },
 "nbformat": 4,
 "nbformat_minor": 2
}
