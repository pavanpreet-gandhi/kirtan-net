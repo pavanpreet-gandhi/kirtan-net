{
 "cells": [
  {
   "cell_type": "code",
   "execution_count": 1,
   "metadata": {},
   "outputs": [],
   "source": [
    "import utils\n",
    "from Saaj import Saaj"
   ]
  },
  {
   "cell_type": "code",
   "execution_count": 2,
   "metadata": {},
   "outputs": [
    {
     "name": "stdout",
     "output_type": "stream",
     "text": [
      "['bilaval', 'asa', 'bhairo', 'suhi']\n"
     ]
    }
   ],
   "source": [
    "sura = utils.load_sura()\n",
    "print(list(sura.raags.keys()))"
   ]
  },
  {
   "cell_type": "code",
   "execution_count": 8,
   "metadata": {},
   "outputs": [
    {
     "name": "stdout",
     "output_type": "stream",
     "text": [
      "Using preset Accordion for Accordian\n"
     ]
    }
   ],
   "source": [
    "waja = Saaj(tempo=120, sa_note=61, instrument='Accordian')\n",
    "\n",
    "raag = sura.raags['asa']\n",
    "waja.play_sura(raag.aroh + [''] + raag.avroh + [''])"
   ]
  }
 ],
 "metadata": {
  "kernelspec": {
   "display_name": "music-env",
   "language": "python",
   "name": "python3"
  },
  "language_info": {
   "codemirror_mode": {
    "name": "ipython",
    "version": 3
   },
   "file_extension": ".py",
   "mimetype": "text/x-python",
   "name": "python",
   "nbconvert_exporter": "python",
   "pygments_lexer": "ipython3",
   "version": "3.10.13"
  }
 },
 "nbformat": 4,
 "nbformat_minor": 2
}
