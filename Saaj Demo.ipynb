{
 "cells": [
  {
   "cell_type": "markdown",
   "metadata": {},
   "source": []
  },
  {
   "cell_type": "code",
   "execution_count": 5,
   "metadata": {},
   "outputs": [],
   "source": [
    "import utils\n",
    "from music_elements import Note, Chord\n",
    "from instrument import Instrument"
   ]
  },
  {
   "cell_type": "code",
   "execution_count": 6,
   "metadata": {},
   "outputs": [
    {
     "name": "stdout",
     "output_type": "stream",
     "text": [
      "dict_keys(['bilaval', 'asa', 'bhairo', 'suhi', 'gond'])\n"
     ]
    }
   ],
   "source": [
    "raags = utils.load_yaml('./configuration/raags.yml')\n",
    "print(raags.keys())"
   ]
  },
  {
   "cell_type": "code",
   "execution_count": 7,
   "metadata": {},
   "outputs": [
    {
     "name": "stdout",
     "output_type": "stream",
     "text": [
      "Using preset Accordion for accordian\n"
     ]
    }
   ],
   "source": [
    "waja = Instrument(tempo=240)\n",
    "\n",
    "raag = raags['bilaval']\n",
    "\n",
    "for notation in raag.aroh:\n",
    "    note = Note(notation)\n",
    "    waja.play_note(note)\n",
    "\n",
    "waja.play_note(None)\n",
    "\n",
    "for notation in raag.avroh:\n",
    "    note = Note(notation)\n",
    "    waja.play_note(note)\n",
    "\n",
    "del waja"
   ]
  },
  {
   "cell_type": "code",
   "execution_count": 8,
   "metadata": {},
   "outputs": [
    {
     "name": "stdout",
     "output_type": "stream",
     "text": [
      "Using preset Accordion for accordian\n"
     ]
    }
   ],
   "source": [
    "waja = Instrument(tempo=120)\n",
    "\n",
    "note = Note('s')\n",
    "\n",
    "chord_major = note.generate_chord([0, 4, 7])\n",
    "\n",
    "chord_minor = note.generate_chord('minor')\n",
    "\n",
    "waja.play_chord(chord_major, duration=2)\n",
    "waja.play_chord(chord_minor, duration=2)\n",
    "waja.play_chord(chord_major, duration=2)\n",
    "\n",
    "del waja"
   ]
  }
 ],
 "metadata": {
  "kernelspec": {
   "display_name": "music-env",
   "language": "python",
   "name": "python3"
  },
  "language_info": {
   "codemirror_mode": {
    "name": "ipython",
    "version": 3
   },
   "file_extension": ".py",
   "mimetype": "text/x-python",
   "name": "python",
   "nbconvert_exporter": "python",
   "pygments_lexer": "ipython3",
   "version": "3.10.12"
  }
 },
 "nbformat": 4,
 "nbformat_minor": 2
}
