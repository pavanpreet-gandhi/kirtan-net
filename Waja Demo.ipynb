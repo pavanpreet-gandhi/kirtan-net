{
 "cells": [
  {
   "cell_type": "code",
   "execution_count": 1,
   "metadata": {},
   "outputs": [],
   "source": [
    "from Waja import Waja"
   ]
  },
  {
   "cell_type": "code",
   "execution_count": 2,
   "metadata": {},
   "outputs": [
    {
     "name": "stdout",
     "output_type": "stream",
     "text": [
      "Using preset Accordion for Accordian\n"
     ]
    }
   ],
   "source": [
    "waja = Waja(tempo=60, sa_note=58)\n",
    "\n",
    "sur_sequence = ['s', 'r', 'g', 'm', 'g', 'r', 'g', 'p', 'd', 'n', 's+']\n",
    "waja.play_sur_sequence(sur_sequence)\n",
    "sur_sequence = ['s+', 'n', 'd', 'p', 'g', 'r', 'g', 'p', 'm', 'g', 'r', 's']\n",
    "waja.play_sur_sequence(sur_sequence)\n",
    "\n",
    "waja.play_chord(['s', 'g', 'p'], duration=2)"
   ]
  },
  {
   "cell_type": "code",
   "execution_count": 3,
   "metadata": {},
   "outputs": [
    {
     "name": "stdout",
     "output_type": "stream",
     "text": [
      "Using preset Accordion for Accordian\n"
     ]
    }
   ],
   "source": [
    "waja = Waja(tempo=600, sa_note=61)\n",
    "\n",
    "for _ in range(4):\n",
    "    waja.play_sur_sequence([\n",
    "        's', 'r.', 'g', 'm', 'p', 'd.', 'n', 's+',\n",
    "        's+', 'n', 'd.', 'p', 'm*', 'g', 'r.', 's'\n",
    "    ])"
   ]
  }
 ],
 "metadata": {
  "kernelspec": {
   "display_name": "music-env",
   "language": "python",
   "name": "python3"
  },
  "language_info": {
   "codemirror_mode": {
    "name": "ipython",
    "version": 3
   },
   "file_extension": ".py",
   "mimetype": "text/x-python",
   "name": "python",
   "nbconvert_exporter": "python",
   "pygments_lexer": "ipython3",
   "version": "3.10.13"
  }
 },
 "nbformat": 4,
 "nbformat_minor": 2
}
