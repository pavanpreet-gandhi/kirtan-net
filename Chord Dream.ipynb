{
 "cells": [
  {
   "cell_type": "code",
   "execution_count": 1,
   "metadata": {},
   "outputs": [],
   "source": [
    "from pprint import pprint\n",
    "import random\n",
    "\n",
    "import utils\n",
    "from music_elements import Note, Chord, Raag, Instrument"
   ]
  },
  {
   "cell_type": "code",
   "execution_count": 2,
   "metadata": {},
   "outputs": [
    {
     "name": "stdout",
     "output_type": "stream",
     "text": [
      "Available raags: ['bilaval', 'asa', 'bhairo', 'suhi', 'gond']\n"
     ]
    }
   ],
   "source": [
    "raags = utils.load_yaml('configuration/raag_config.yaml')\n",
    "print(f'Available raags: {list(raags.keys())}')"
   ]
  },
  {
   "cell_type": "code",
   "execution_count": 3,
   "metadata": {},
   "outputs": [],
   "source": [
    "# Select a raag and create the raag object\n",
    "raag_selection = 'bilaval'\n",
    "raag = Raag(notes=raags[raag_selection].notes, aroh=raags[raag_selection].aroh, avroh=raags[raag_selection].avroh)"
   ]
  },
  {
   "cell_type": "code",
   "execution_count": 4,
   "metadata": {},
   "outputs": [],
   "source": [
    "# Define the chord types\n",
    "chord_types = {\n",
    "    'major': [0, 4, 7],\n",
    "    'minor': [0, 3, 7],\n",
    "}"
   ]
  },
  {
   "cell_type": "code",
   "execution_count": 5,
   "metadata": {},
   "outputs": [
    {
     "name": "stdout",
     "output_type": "stream",
     "text": [
      "[Chord([s, g, p]),\n",
      " Chord([s, g, d]),\n",
      " Chord([s, m, d]),\n",
      " Chord([r, m, d]),\n",
      " Chord([r, p, n]),\n",
      " Chord([g, p, n])]\n"
     ]
    }
   ],
   "source": [
    "# Compute all the base chords\n",
    "chords_in_raag = []\n",
    "for note in raag.notes:\n",
    "    for chord_type, intervals in chord_types.items():\n",
    "        chords = Chord(note, intervals).get_all_inversions()\n",
    "        for chord in chords:\n",
    "            if chord in raag:\n",
    "                base_chord = chord.get_base_chord()\n",
    "                chords_in_raag.append(base_chord)\n",
    "chords_in_raag = sorted(list(set(chords_in_raag))) # remove duplicates and sort chords in ascending order\n",
    "pprint(chords_in_raag)"
   ]
  },
  {
   "cell_type": "code",
   "execution_count": 6,
   "metadata": {},
   "outputs": [
    {
     "name": "stdout",
     "output_type": "stream",
     "text": [
      "Using preset Accordion for accordian\n"
     ]
    },
    {
     "name": "stderr",
     "output_type": "stream",
     "text": [
      "fluidsynth: Using PulseAudio driver\n",
      "fluidsynth: warning: Failed to set thread to high priority\n",
      "ALSA lib seq_hw.c:466:(snd_seq_hw_open) open /dev/snd/seq failed: No such file or directory\n",
      "fluidsynth: error: Error opening ALSA sequencer\n"
     ]
    }
   ],
   "source": [
    "# Play all the base chords\n",
    "waja = Instrument(tempo=240)\n",
    "for chord in chords_in_raag:\n",
    "    waja.play_chord(chord)\n",
    "del waja"
   ]
  },
  {
   "cell_type": "code",
   "execution_count": 7,
   "metadata": {},
   "outputs": [
    {
     "name": "stdout",
     "output_type": "stream",
     "text": [
      "Using preset Accordion for accordian\n"
     ]
    }
   ],
   "source": [
    "# Create random chord progressions according to the 4 2+2 rule\n",
    "\n",
    "chord_space = [chord.shift_saptak(-1) for chord in chords_in_raag] + chords_in_raag + [chord.shift_saptak(1) for chord in chords_in_raag]\n",
    "waja = Instrument(tempo=300)\n",
    "\n",
    "for _ in range(4):\n",
    "    chords_1 = random.sample(chord_space, k=4)\n",
    "    chords_2 = random.sample(chords_1, k=2) + random.sample(chord_space, k=2)\n",
    "    random.shuffle(chords_2)\n",
    "    for chord in (chords_1*2 + chords_2*2):\n",
    "        waja.play_chord(chord)"
   ]
  }
 ],
 "metadata": {
  "kernelspec": {
   "display_name": ".venv",
   "language": "python",
   "name": "python3"
  },
  "language_info": {
   "codemirror_mode": {
    "name": "ipython",
    "version": 3
   },
   "file_extension": ".py",
   "mimetype": "text/x-python",
   "name": "python",
   "nbconvert_exporter": "python",
   "pygments_lexer": "ipython3",
   "version": "3.10.12"
  }
 },
 "nbformat": 4,
 "nbformat_minor": 2
}
