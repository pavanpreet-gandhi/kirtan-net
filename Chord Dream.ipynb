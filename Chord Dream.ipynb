{
 "cells": [
  {
   "cell_type": "code",
   "execution_count": 1,
   "metadata": {},
   "outputs": [
    {
     "name": "stderr",
     "output_type": "stream",
     "text": [
      "WARNING:root:python-rtmidi was not found; streaming midi input / output will not be available.\n",
      "WARNING:root:pynput was not found; mouse and keyboard input will not be available.\n"
     ]
    }
   ],
   "source": [
    "from bidict import bidict\n",
    "from pprint import pprint\n",
    "import utils\n",
    "from saaj import Saaj"
   ]
  },
  {
   "cell_type": "code",
   "execution_count": 2,
   "metadata": {},
   "outputs": [],
   "source": [
    "notation = utils.load_yaml('configuration/notation.yml')\n",
    "sura = notation.sura\n",
    "sur_to_degree = bidict(notation.sur_to_degree)"
   ]
  },
  {
   "cell_type": "code",
   "execution_count": 3,
   "metadata": {},
   "outputs": [
    {
     "data": {
      "text/plain": [
       "{'major': {'s': ['s', 'g', 'p'],\n",
       "  'r.': ['r.', 'm', 'd.'],\n",
       "  'r': ['r', 'm*', 'd'],\n",
       "  'g.': ['g.', 'p', 'n.'],\n",
       "  'g': ['g', 'd.', 'n'],\n",
       "  'm': ['m', 'd', 's+'],\n",
       "  'm*': ['m*', 'n.', 'r.+'],\n",
       "  'p': ['p', 'n', 'r+'],\n",
       "  'd.': ['d.', 's+', 'g.+'],\n",
       "  'd': ['d', 'r.+', 'g+'],\n",
       "  'n.': ['n.', 'r+', 'm+'],\n",
       "  'n': ['n', 'g.+', 'm*+']},\n",
       " 'minor': {'s': ['s', 'g.', 'p'],\n",
       "  'r.': ['r.', 'g', 'd.'],\n",
       "  'r': ['r', 'm', 'd'],\n",
       "  'g.': ['g.', 'm*', 'n.'],\n",
       "  'g': ['g', 'p', 'n'],\n",
       "  'm': ['m', 'd.', 's+'],\n",
       "  'm*': ['m*', 'd', 'r.+'],\n",
       "  'p': ['p', 'n.', 'r+'],\n",
       "  'd.': ['d.', 'n', 'g.+'],\n",
       "  'd': ['d', 's+', 'g+'],\n",
       "  'n.': ['n.', 'r.+', 'm+'],\n",
       "  'n': ['n', 'r+', 'm*+']}}"
      ]
     },
     "execution_count": 3,
     "metadata": {},
     "output_type": "execute_result"
    }
   ],
   "source": [
    "chord_structures = {\n",
    "    'major': [0, 4, 7],\n",
    "    'minor': [0, 3, 7],\n",
    "}\n",
    "\n",
    "chords = dict((chord_type, {}) for chord_type in chord_structures.keys())\n",
    "\n",
    "for sur in sura:\n",
    "    for chord_type, chord_structure in chord_structures.items():\n",
    "        degrees = [sur_to_degree[sur] + interval for interval in chord_structure]\n",
    "        chord = [sur_to_degree.inverse[degree] for degree in degrees]\n",
    "        chords[chord_type][sur] = chord\n",
    "\n",
    "chords"
   ]
  },
  {
   "cell_type": "code",
   "execution_count": 21,
   "metadata": {},
   "outputs": [],
   "source": [
    "chords_by_raag\n",
    "\n",
    "raags = utils.load_yaml('configuration/raags.yml')\n",
    "\n",
    "for raag_name, raag_params in raags.items():\n",
    "    \n",
    "    raag_name"
   ]
  }
 ],
 "metadata": {
  "kernelspec": {
   "display_name": ".venv",
   "language": "python",
   "name": "python3"
  },
  "language_info": {
   "codemirror_mode": {
    "name": "ipython",
    "version": 3
   },
   "file_extension": ".py",
   "mimetype": "text/x-python",
   "name": "python",
   "nbconvert_exporter": "python",
   "pygments_lexer": "ipython3",
   "version": "3.10.12"
  }
 },
 "nbformat": 4,
 "nbformat_minor": 2
}
