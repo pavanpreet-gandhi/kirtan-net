{
 "cells": [
  {
   "cell_type": "code",
   "execution_count": 1,
   "metadata": {},
   "outputs": [],
   "source": [
    "import logging\n",
    "from music_elements import Note, Chord"
   ]
  },
  {
   "cell_type": "code",
   "execution_count": 2,
   "metadata": {},
   "outputs": [],
   "source": [
    "note1 = Note(0) # s\n",
    "note2 = Note('p') # p\n",
    "\n",
    "note1 < note2 # True\n",
    "\n",
    "note3 = note1.shift_saptak(1) # s+\n",
    "\n",
    "note2.get_distance(note1) # 7\n",
    "note2.get_distance(note3) # 5\n",
    "\n",
    "pass"
   ]
  },
  {
   "cell_type": "code",
   "execution_count": 3,
   "metadata": {},
   "outputs": [
    {
     "data": {
      "text/plain": [
       "Chord([s, g, d])"
      ]
     },
     "execution_count": 3,
     "metadata": {},
     "output_type": "execute_result"
    }
   ],
   "source": [
    "note1 = Note('s')\n",
    "note2 = Note('g')\n",
    "note3 = Note('p')\n",
    "\n",
    "chord1 = Chord([note1, note2, note3]) # Chord([s, g, p])\n",
    "\n",
    "chord2 = Chord(note1, intervals=[0, 3, 7]) # Chord([s, g., p])\n",
    "\n",
    "chord1 > chord2 # True\n",
    "\n",
    "chord1.invert(2) # Chord([s, m, d])\n",
    "\n",
    "chord2.invert(1) # Chord([s, g, d])"
   ]
  }
 ],
 "metadata": {
  "kernelspec": {
   "display_name": ".venv",
   "language": "python",
   "name": "python3"
  },
  "language_info": {
   "codemirror_mode": {
    "name": "ipython",
    "version": 3
   },
   "file_extension": ".py",
   "mimetype": "text/x-python",
   "name": "python",
   "nbconvert_exporter": "python",
   "pygments_lexer": "ipython3",
   "version": "3.10.12"
  }
 },
 "nbformat": 4,
 "nbformat_minor": 2
}
