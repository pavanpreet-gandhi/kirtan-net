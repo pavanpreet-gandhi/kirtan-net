{
 "cells": [
  {
   "cell_type": "code",
   "execution_count": 1,
   "metadata": {},
   "outputs": [],
   "source": [
    "import utils\n",
    "from music_elements import Note, Chord, Raag, Instrument"
   ]
  },
  {
   "cell_type": "code",
   "execution_count": 2,
   "metadata": {},
   "outputs": [
    {
     "data": {
      "text/plain": [
       "5"
      ]
     },
     "execution_count": 2,
     "metadata": {},
     "output_type": "execute_result"
    }
   ],
   "source": [
    "note1 = Note(0) # s\n",
    "note2 = Note('p') # p\n",
    "\n",
    "note1 < note2 # True\n",
    "\n",
    "note3 = note1.shift_saptak(1) # s+\n",
    "\n",
    "note2.get_distance(note1) # 7\n",
    "note2.get_distance(note3) # 5"
   ]
  },
  {
   "cell_type": "code",
   "execution_count": 3,
   "metadata": {},
   "outputs": [
    {
     "data": {
      "text/plain": [
       "[Chord([s, g, p]), Chord([s, g., d.]), Chord([s, m, d])]"
      ]
     },
     "execution_count": 3,
     "metadata": {},
     "output_type": "execute_result"
    }
   ],
   "source": [
    "note1 = Note('s')\n",
    "note2 = Note('g')\n",
    "note3 = Note('p')\n",
    "\n",
    "chord1 = Chord([note1, note2, note3]) # Chord([s, g, p])\n",
    "\n",
    "chord2 = Chord(note1, intervals=[0, 3, 7]) # Chord([s, g., p])\n",
    "\n",
    "chord1 > chord2 # True\n",
    "\n",
    "chord1.invert(2) # Chord([s, m, d])\n",
    "\n",
    "chord2.invert(1) # Chord([s, g, d])\n",
    "\n",
    "chord1.get_all_inversions() # [Chord([s, g, p]), Chord([s, g., d.]), Chord([s, m, d])]"
   ]
  },
  {
   "cell_type": "code",
   "execution_count": 4,
   "metadata": {},
   "outputs": [
    {
     "data": {
      "text/plain": [
       "False"
      ]
     },
     "execution_count": 4,
     "metadata": {},
     "output_type": "execute_result"
    }
   ],
   "source": [
    "raag_config = utils.load_yaml('./configuration/raag_config.yaml')\n",
    "\n",
    "bilaval = Raag(\n",
    "    notes = raag_config.bilaval.notes,\n",
    "    aroh = raag_config.bilaval.aroh,\n",
    "    avroh = raag_config.bilaval.avroh,\n",
    ")\n",
    "\n",
    "Note('s') in bilaval # True\n",
    "Chord(Note('s'), [0, 4, 7]) in bilaval # True\n",
    "Chord(Note('s'), [0, 3, 7]) in bilaval # False\n",
    "\n",
    "bilaval.aroh_contains(Chord(Note('s'), [0, 4, 7])) # True\n",
    "bilaval.avroh_contains(Chord(Note('s'), [0, 3, 7])) # True"
   ]
  },
  {
   "cell_type": "code",
   "execution_count": 5,
   "metadata": {},
   "outputs": [
    {
     "name": "stdout",
     "output_type": "stream",
     "text": [
      "Using preset Accordion for accordian\n"
     ]
    },
    {
     "name": "stderr",
     "output_type": "stream",
     "text": [
      "fluidsynth: Using PulseAudio driver\n",
      "fluidsynth: warning: Failed to set thread to high priority\n",
      "ALSA lib seq_hw.c:466:(snd_seq_hw_open) open /dev/snd/seq failed: No such file or directory\n",
      "fluidsynth: error: Error opening ALSA sequencer\n"
     ]
    }
   ],
   "source": [
    "waja = Instrument(tempo=240)\n",
    "\n",
    "for note in bilaval.aroh:\n",
    "    waja.play_note(note)\n",
    "\n",
    "waja.play_note(None)\n",
    "\n",
    "for note in bilaval.avroh:\n",
    "    waja.play_note(note)\n",
    "\n",
    "del waja"
   ]
  },
  {
   "cell_type": "code",
   "execution_count": 6,
   "metadata": {},
   "outputs": [
    {
     "name": "stdout",
     "output_type": "stream",
     "text": [
      "Using preset Accordion for accordian\n"
     ]
    }
   ],
   "source": [
    "waja = Instrument(tempo=120)\n",
    "\n",
    "note = Note('s')\n",
    "\n",
    "chord_major = Chord(note, [0, 4, 7])\n",
    "\n",
    "for chord in chord_major.get_all_inversions():\n",
    "    waja.play_chord(chord)\n",
    "\n",
    "del waja"
   ]
  }
 ],
 "metadata": {
  "kernelspec": {
   "display_name": ".venv",
   "language": "python",
   "name": "python3"
  },
  "language_info": {
   "codemirror_mode": {
    "name": "ipython",
    "version": 3
   },
   "file_extension": ".py",
   "mimetype": "text/x-python",
   "name": "python",
   "nbconvert_exporter": "python",
   "pygments_lexer": "ipython3",
   "version": "3.10.12"
  }
 },
 "nbformat": 4,
 "nbformat_minor": 2
}
